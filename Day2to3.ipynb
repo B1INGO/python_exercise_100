{
 "cells": [
  {
   "cell_type": "markdown",
   "metadata": {},
   "source": [
    "# Day2to3"
   ]
  },
  {
   "cell_type": "markdown",
   "metadata": {},
   "source": [
    "## 计算机基本结构\n",
    "> 硬件组成\n",
    ">> - 运算器\n",
    ">> - 控制器\n",
    ">> - 存储器\n",
    ">> - 输入设备\n",
    ">> - 输出设备"
   ]
  }
 ],
 "metadata": {
  "language_info": {
   "name": "python"
  },
  "orig_nbformat": 4
 },
 "nbformat": 4,
 "nbformat_minor": 2
}
